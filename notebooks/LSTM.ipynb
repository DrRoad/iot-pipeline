{
 "cells": [
  {
   "cell_type": "markdown",
   "metadata": {},
   "source": [
    "# Anomaly detection using LSTM\n",
    "\n",
    "This notebook is an example for how to use Long-Short Term Memory neural networks for anomaly detection.\n",
    "\n",
    "Data used in this example is taken from hardware sensors attached to a robot arm performing simple tasks. We will be using 3 values - linear acceleration X/Y/Z. The goal is to predict robot malfunction before it crashes (and before a person is able to notice it).\n",
    "\n",
    "Network graph will be prepared using Keras/Tensorflow and the training itself will be performed using DeepWater."
   ]
  },
  {
   "cell_type": "markdown",
   "metadata": {},
   "source": [
    "## Setup\n",
    "\n",
    "Import required modules (h2o for deepwater and pandas for initial data munging).\n",
    "\n",
    "Bootstrap a single node H2O instance."
   ]
  },
  {
   "cell_type": "code",
   "execution_count": null,
   "metadata": {
    "collapsed": true
   },
   "outputs": [],
   "source": [
    "import h2o\n",
    "from h2o.estimators.deepwater import H2ODeepWaterEstimator\n",
    "import pandas as pd\n",
    "\n",
    "PATH=os.path.expanduser(\"~/h2o-3\")\n",
    "h2o.init(port=54321, nthreads=-1)\n",
    "if not H2ODeepWaterEstimator.available(): exit"
   ]
  },
  {
   "cell_type": "markdown",
   "metadata": {},
   "source": [
    "## Custom TF LSTM model\n",
    "\n",
    "Build a custom LSTM network graph using Keras and save it for later use."
   ]
  },
  {
   "cell_type": "code",
   "execution_count": null,
   "metadata": {
    "collapsed": true
   },
   "outputs": [],
   "source": [
    "import tensorflow as tf\n",
    "import json\n",
    "from keras.layers.core import Dense, Flatten, Reshape\n",
    "from keras.layers.convolutional import Conv2D\n",
    "from keras.layers.pooling import MaxPooling2D\n",
    "from keras import backend as K\n",
    "from keras.objectives import categorical_crossentropy\n",
    "from tensorflow.python.framework import ops\n",
    "\n",
    "def keras_model(h, w):\n",
    "    # always create a new graph inside ipython or\n",
    "    # the default one will be used and can lead to\n",
    "    # unexpected behavior\n",
    "    graph = tf.Graph() \n",
    "    with graph.as_default():\n",
    "        size = w * h\n",
    "        # Input images fed via H2O\n",
    "        inp = tf.placeholder(tf.float32, [None, size])\n",
    "        # Actual labels used for training fed via H2O\n",
    "        labels = tf.placeholder(tf.float32, [None, 1])\n",
    "\n",
    "        # Keras network\n",
    "        x = Reshape((w, h))(inp)\n",
    "\n",
    "        x = LSTM(32, input_shape=(w, h))(x)\n",
    "        x = LSTM(64, input_dim=64, input_length=10, return_sequences=True)(x)\n",
    "        x = LSTM(32, return_sequences=True)(x)\n",
    "        x = LSTM(10)(x)\n",
    "        out = tf.reduce_sum(x)\n",
    "\n",
    "        predictions = out\n",
    "\n",
    "        loss = tf.reduce_mean(tf.nn.softmax_cross_entropy_with_logits(labels=labels,logits=out))\n",
    "        train_step = tf.train.AdamOptimizer(1e-3).minimize(loss)\n",
    "\n",
    "        init_op = tf.global_variables_initializer()\n",
    "\n",
    "        # Metadata required by H2O\n",
    "        tf.add_to_collection(ops.GraphKeys.INIT_OP, init_op.name)\n",
    "        tf.add_to_collection(ops.GraphKeys.TRAIN_OP, train_step)\n",
    "        tf.add_to_collection(\"logits\", out)\n",
    "        tf.add_to_collection(\"predictions\", predictions)\n",
    "\n",
    "        meta = json.dumps({\n",
    "                \"inputs\": {\"batch_image_input\": inp.name,\n",
    "                           \"categorical_labels\": labels.name},\n",
    "                \"outputs\": {\"categorical_logits\": out.name,\n",
    "                            \"layers\": ','.join([m.name for m in tf.get_default_graph().get_operations()])},\n",
    "                \"parameters\": {}\n",
    "            })\n",
    "        tf.add_to_collection(\"meta\", meta)\n",
    "\n",
    "        # Save the meta file with the graph\n",
    "        saver = tf.train.Saver()\n",
    "        filename = \"/tmp/keras_tf_lstm.meta\"\n",
    "        tf.train.export_meta_graph(filename, saver_def=saver.as_saver_def())\n",
    "\n",
    "        return filename"
   ]
  },
  {
   "cell_type": "markdown",
   "metadata": {},
   "source": [
    "## Load and prepare data"
   ]
  },
  {
   "cell_type": "code",
   "execution_count": null,
   "metadata": {
    "collapsed": true
   },
   "outputs": [],
   "source": [
    "# Read training data into memory\n",
    "iot_raw = pd.from_csv('../model-builder/resources/normal_20170202_2229.csv')\n",
    "\n",
    "# Select training columns\n",
    "iot_train = iot_raw[[\" LinAccX (g)\",\" LinAccY (g)\",\" LinAccZ (g)\"]]\n",
    "\n",
    "y = iot_train.sum(axis=1)\n",
    "iot_train[\"y\"] = y\n",
    "\n",
    "# Send the data to H2O\n",
    "iot_train_frame  = h2o.H2OFrame(iot)"
   ]
  },
  {
   "cell_type": "markdown",
   "metadata": {},
   "source": [
    "## Train the model"
   ]
  },
  {
   "cell_type": "code",
   "execution_count": null,
   "metadata": {
    "collapsed": true
   },
   "outputs": [],
   "source": [
    "(h, w) = iot_train.shape\n",
    "model_filename = keras_model(h, w-1)\n",
    "model = H2ODeepWaterEstimator(epochs=500, \n",
    "                              network_definition_file=model_filename,\n",
    "                              backend=\"tensorflow\", \n",
    "                             ) \n",
    "model.train(x = [0:2], y = 3, training_frame=iot_train_frame)\n",
    "model.show()"
   ]
  }
 ],
 "metadata": {
  "anaconda-cloud": {},
  "kernelspec": {
   "display_name": "Python [conda env:tensorflow]",
   "language": "python",
   "name": "conda-env-tensorflow-py"
  },
  "language_info": {
   "codemirror_mode": {
    "name": "ipython",
    "version": 3
   },
   "file_extension": ".py",
   "mimetype": "text/x-python",
   "name": "python",
   "nbconvert_exporter": "python",
   "pygments_lexer": "ipython3",
   "version": "3.5.2"
  }
 },
 "nbformat": 4,
 "nbformat_minor": 2
}
