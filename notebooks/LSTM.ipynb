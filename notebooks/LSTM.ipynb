{
 "cells": [
  {
   "cell_type": "markdown",
   "metadata": {},
   "source": [
    "# Import modules"
   ]
  },
  {
   "cell_type": "code",
   "execution_count": null,
   "metadata": {
    "collapsed": true
   },
   "outputs": [],
   "source": [
    "import h2o\n",
    "from h2o.estimators.deepwater import H2ODeepWaterEstimator\n",
    "import pandas as pd\n",
    "\n",
    "PATH=os.path.expanduser(\"~/h2o-3\")\n",
    "h2o.init(port=54321, nthreads=-1)\n",
    "if not H2ODeepWaterEstimator.available(): exit"
   ]
  },
  {
   "cell_type": "markdown",
   "metadata": {},
   "source": [
    "# Custom TF LSTM model"
   ]
  },
  {
   "cell_type": "code",
   "execution_count": null,
   "metadata": {
    "collapsed": true
   },
   "outputs": [],
   "source": [
    "import tensorflow as tf\n",
    "import json\n",
    "from keras.layers.core import Dense, Flatten, Reshape\n",
    "from keras.layers.convolutional import Conv2D\n",
    "from keras.layers.pooling import MaxPooling2D\n",
    "from keras import backend as K\n",
    "from keras.objectives import categorical_crossentropy\n",
    "from tensorflow.python.framework import ops\n",
    "\n",
    "def keras_model(n, m):\n",
    "    # always create a new graph inside ipython or\n",
    "    # the default one will be used and can lead to\n",
    "    # unexpected behavior\n",
    "    graph = tf.Graph() \n",
    "    with graph.as_default():\n",
    "        size = w * h * channels\n",
    "        # Input images fed via H2O\n",
    "        inp = tf.placeholder(tf.float32, [None, size])\n",
    "        # Actual labels used for training fed via H2O\n",
    "        labels = tf.placeholder(tf.float32, [None, classes])\n",
    "\n",
    "        # Keras network\n",
    "        x = Reshape((w, h))(inp)\n",
    "\n",
    "        x = LSTM(32, input_shape=(w, h))(x)\n",
    "        x = LSTM(64, input_dim=64, input_length=10, return_sequences=True)(x)\n",
    "        x = LSTM(32, return_sequences=True)(x)\n",
    "        x = LSTM(10)(x)\n",
    "        out = #TODO sum all the neurons into 1 digit\n",
    "\n",
    "        predictions = out\n",
    "\n",
    "        loss = tf.reduce_mean(tf.nn.softmax_cross_entropy_with_logits(labels=labels,logits=out))\n",
    "        train_step = tf.train.AdamOptimizer(1e-3).minimize(loss)\n",
    "\n",
    "        init_op = tf.global_variables_initializer()\n",
    "\n",
    "        # Metadata required by H2O\n",
    "        tf.add_to_collection(ops.GraphKeys.INIT_OP, init_op.name)\n",
    "        tf.add_to_collection(ops.GraphKeys.TRAIN_OP, train_step)\n",
    "        tf.add_to_collection(\"logits\", out)\n",
    "        tf.add_to_collection(\"predictions\", predictions)\n",
    "\n",
    "        meta = json.dumps({\n",
    "                \"inputs\": {\"batch_image_input\": inp.name,\n",
    "                           \"categorical_labels\": labels.name},\n",
    "                \"outputs\": {\"categorical_logits\": out.name,\n",
    "                            \"layers\": ','.join([m.name for m in tf.get_default_graph().get_operations()])},\n",
    "                \"parameters\": {}\n",
    "            })\n",
    "        tf.add_to_collection(\"meta\", meta)\n",
    "\n",
    "        # Save the meta file with the graph\n",
    "        saver = tf.train.Saver()\n",
    "        filename = \"/tmp/keras_tensorflow.meta\"\n",
    "        tf.train.export_meta_graph(filename, saver_def=saver.as_saver_def())\n",
    "\n",
    "        return filename"
   ]
  },
  {
   "cell_type": "markdown",
   "metadata": {},
   "source": [
    "# Load and prepare data"
   ]
  },
  {
   "cell_type": "code",
   "execution_count": null,
   "metadata": {
    "collapsed": true
   },
   "outputs": [],
   "source": [
    "#\n",
    "# Function which \"windows\" the input matrix i.e. for matrix:\n",
    "# 1   2   3\n",
    "# 4   5   6\n",
    "# 7   8   9\n",
    "# 10 11  12\n",
    "#\n",
    "# And window 3 the result would be:\n",
    "# 1  2  3  4  5  6  7   8   9\n",
    "# 4  5  6  7  8  9  10 11  12\n",
    "#\n",
    "# It appends window-1 following rows to each row creating matrix of size dim(rows-window+1, columns*window)\n",
    "def ngram(inp, window):\n",
    "    rows = inp.shape[0]\n",
    "    cols = inp.shape[1]\n",
    "    resRows = rows - window + 1\n",
    "\n",
    "    res = DataFrame(columns=range(window*cols))\n",
    "    for idx in range(resRows):\n",
    "        if window-1 > 0:\n",
    "            # TODO REDO IN PYTHON\n",
    "            newRow = c(inp[idx,], t(inp[(idx+1):(idx+window-1),]))\n",
    "        elif:\n",
    "            newRow = inp[idx,]\n",
    "\n",
    "        if idx % 10000 == 0:\n",
    "            print(idx)\n",
    "        res[idx,] = t(newRow)\n",
    "    return(res)\n",
    "\n",
    "# Read training data into memory\n",
    "iotRaw = pd.from_csv('../resources/normal_20170202_2229.csv')\n",
    "\n",
    "# Select training columns\n",
    "iot = iotRaw[[\"LinAccX..g.\",\"LinAccY..g.\",\"LinAccZ..g.\"]]\n",
    "\n",
    "# Set training window and ngram\n",
    "window = 200\n",
    "iot = ngram(iot, window)\n",
    "\n",
    "# Send the data to H2O\n",
    "iot_train  = h2o.H2OFrame(iot)\n",
    "\n",
    "# TODO - add \"y\" labels being the sum of all values"
   ]
  },
  {
   "cell_type": "markdown",
   "metadata": {},
   "source": [
    "# Train the model"
   ]
  },
  {
   "cell_type": "code",
   "execution_count": null,
   "metadata": {
    "collapsed": true
   },
   "outputs": [],
   "source": [
    "model_filename = keras_model()\n",
    "model = H2ODeepWaterEstimator(epochs=500, \n",
    "                              network_definition_file=model_filename,\n",
    "                              backend=\"tensorflow\", \n",
    "                             ) \n",
    "model.train(x = ALL_BUT_LAST, y = LAST_COLUMN, training_frame=iot_train)\n",
    "model.show()"
   ]
  }
 ],
 "metadata": {
  "anaconda-cloud": {},
  "kernelspec": {
   "display_name": "Python [conda env:tensorflow]",
   "language": "python",
   "name": "conda-env-tensorflow-py"
  },
  "language_info": {
   "codemirror_mode": {
    "name": "ipython",
    "version": 3
   },
   "file_extension": ".py",
   "mimetype": "text/x-python",
   "name": "python",
   "nbconvert_exporter": "python",
   "pygments_lexer": "ipython3",
   "version": "3.5.2"
  }
 },
 "nbformat": 4,
 "nbformat_minor": 2
}
